{
 "cells": [
  {
   "cell_type": "markdown",
   "id": "17f0b29e-7e7c-4e2e-b825-5881c1ca7661",
   "metadata": {},
   "source": [
    "# Setup"
   ]
  },
  {
   "cell_type": "code",
   "execution_count": 1,
   "id": "d7fe0099-1eeb-4fb5-b7a8-7c486a070e3d",
   "metadata": {},
   "outputs": [],
   "source": [
    "# imports\n",
    "import pandas as pd\n",
    "import matplotlib.pyplot as plt\n",
    "import seaborn as sns\n",
    "import networkx as nx"
   ]
  },
  {
   "cell_type": "code",
   "execution_count": 2,
   "id": "549c0851-a0dc-4674-9320-08fb4f08f0bd",
   "metadata": {},
   "outputs": [],
   "source": [
    "# read in data\n",
    "account_lookup = pd.read_csv(\"data/musae_git_target.csv\")  # contains GitHub user IDs and corresponding account names\n",
    "connections = pd.read_csv(\"data/musae_git_edges.csv\")  # containing all of the connections between different GitHub accounts/users"
   ]
  },
  {
   "cell_type": "markdown",
   "id": "7009dfb9-5ec0-45c2-bc15-70607ff5c59e",
   "metadata": {},
   "source": [
    "# Data Cleaning and Transformation"
   ]
  },
  {
   "cell_type": "code",
   "execution_count": 3,
   "id": "9cccd105-8530-46e3-a1a1-939b1172f515",
   "metadata": {},
   "outputs": [],
   "source": [
    "# drop unnecessary \"ml_target\" column in account_lookup\n",
    "account_lookup.drop(columns=[\"ml_target\"], inplace=True)"
   ]
  },
  {
   "cell_type": "code",
   "execution_count": 4,
   "id": "2cca1e6c-6087-4ea9-b9de-b15c69464a64",
   "metadata": {},
   "outputs": [
    {
     "name": "stdout",
     "output_type": "stream",
     "text": [
      "DATAFRAME SHAPE: (37700, 2)\n",
      "--------------------\n",
      "DATAFRAME INFO\n",
      "<class 'pandas.core.frame.DataFrame'>\n",
      "RangeIndex: 37700 entries, 0 to 37699\n",
      "Data columns (total 2 columns):\n",
      " #   Column  Non-Null Count  Dtype \n",
      "---  ------  --------------  ----- \n",
      " 0   id      37700 non-null  int64 \n",
      " 1   name    37700 non-null  object\n",
      "dtypes: int64(1), object(1)\n",
      "memory usage: 589.2+ KB\n",
      "--------------------\n",
      "DATAFRAME DESCRIPTION\n",
      "\n",
      "                 id\n",
      "count  37700.000000\n",
      "mean   18849.500000\n",
      "std    10883.196911\n",
      "min        0.000000\n",
      "25%     9424.750000\n",
      "50%    18849.500000\n",
      "75%    28274.250000\n",
      "max    37699.000000\n"
     ]
    }
   ],
   "source": [
    "# basic info about account_lookup data\n",
    "print(f\"DATAFRAME SHAPE: {account_lookup.shape}\\n--------------------\\nDATAFRAME INFO\")\n",
    "account_lookup.info()\n",
    "print(\"--------------------\\nDATAFRAME DESCRIPTION\\n\")\n",
    "print(account_lookup.describe())"
   ]
  },
  {
   "cell_type": "code",
   "execution_count": 5,
   "id": "af934930-ebaf-4222-a666-d2eb3f9e39a3",
   "metadata": {},
   "outputs": [
    {
     "name": "stdout",
     "output_type": "stream",
     "text": [
      "DATAFRAME SHAPE: (289003, 2)\n",
      "--------------------\n",
      "DATAFRAME INFO\n",
      "<class 'pandas.core.frame.DataFrame'>\n",
      "RangeIndex: 289003 entries, 0 to 289002\n",
      "Data columns (total 2 columns):\n",
      " #   Column  Non-Null Count   Dtype\n",
      "---  ------  --------------   -----\n",
      " 0   id_1    289003 non-null  int64\n",
      " 1   id_2    289003 non-null  int64\n",
      "dtypes: int64(2)\n",
      "memory usage: 4.4 MB\n",
      "--------------------\n",
      "DATAFRAME DESCRIPTION\n",
      "\n",
      "               id_1           id_2\n",
      "count  289003.00000  289003.000000\n",
      "mean    14812.59490   23778.812767\n",
      "std     10155.54884    9690.937213\n",
      "min         0.00000      16.000000\n",
      "25%      6134.00000   16689.000000\n",
      "50%     13413.00000   25268.000000\n",
      "75%     22612.00000   31890.000000\n",
      "max     37694.00000   37699.000000\n"
     ]
    }
   ],
   "source": [
    "# basic info about connections data\n",
    "print(f\"DATAFRAME SHAPE: {connections.shape}\\n--------------------\\nDATAFRAME INFO\")\n",
    "connections.info()\n",
    "print(\"--------------------\\nDATAFRAME DESCRIPTION\\n\")\n",
    "print(connections.describe())"
   ]
  },
  {
   "cell_type": "code",
   "execution_count": 6,
   "id": "312f574f-d96d-45fe-bedb-367386dfbe28",
   "metadata": {},
   "outputs": [],
   "source": [
    "# first join - matchup id_1 with corresponding account name\n",
    "connections = connections.merge(account_lookup, left_on=\"id_1\", right_on=\"id\")\n",
    "\n",
    "# drop extraneous \"id\" column\n",
    "connections.drop(columns=[\"id\"], inplace=True)\n",
    "\n",
    "# rename \"name\" column to clarify which ID it corresponds to\n",
    "connections.rename(columns={\"name\": \"name_1\"}, inplace=True)"
   ]
  },
  {
   "cell_type": "code",
   "execution_count": 7,
   "id": "ec9971aa-1cbb-4d76-bbbb-73bcb187fd7b",
   "metadata": {},
   "outputs": [],
   "source": [
    "# second join - matchup id_2 with corresponding account name\n",
    "connections = connections.merge(account_lookup, left_on=\"id_2\", right_on=\"id\")\n",
    "\n",
    "# drop extraneous \"id\" column\n",
    "connections.drop(columns=[\"id\"], inplace=True)\n",
    "\n",
    "# rename \"name\" column to clarify which ID it corresponds to\n",
    "connections.rename(columns={\"name\": \"name_2\"}, inplace=True)"
   ]
  },
  {
   "cell_type": "code",
   "execution_count": 8,
   "id": "3106780c-f89d-4bb0-9250-98dd67a1d362",
   "metadata": {},
   "outputs": [
    {
     "data": {
      "text/html": [
       "<div>\n",
       "<style scoped>\n",
       "    .dataframe tbody tr th:only-of-type {\n",
       "        vertical-align: middle;\n",
       "    }\n",
       "\n",
       "    .dataframe tbody tr th {\n",
       "        vertical-align: top;\n",
       "    }\n",
       "\n",
       "    .dataframe thead th {\n",
       "        text-align: right;\n",
       "    }\n",
       "</style>\n",
       "<table border=\"1\" class=\"dataframe\">\n",
       "  <thead>\n",
       "    <tr style=\"text-align: right;\">\n",
       "      <th></th>\n",
       "      <th>id_1</th>\n",
       "      <th>id_2</th>\n",
       "      <th>name_1</th>\n",
       "      <th>name_2</th>\n",
       "    </tr>\n",
       "  </thead>\n",
       "  <tbody>\n",
       "    <tr>\n",
       "      <th>0</th>\n",
       "      <td>0</td>\n",
       "      <td>23977</td>\n",
       "      <td>Eiryyy</td>\n",
       "      <td>airtoxin</td>\n",
       "    </tr>\n",
       "    <tr>\n",
       "      <th>1</th>\n",
       "      <td>1</td>\n",
       "      <td>34526</td>\n",
       "      <td>shawflying</td>\n",
       "      <td>ghosind</td>\n",
       "    </tr>\n",
       "    <tr>\n",
       "      <th>2</th>\n",
       "      <td>1</td>\n",
       "      <td>2370</td>\n",
       "      <td>shawflying</td>\n",
       "      <td>jasondu</td>\n",
       "    </tr>\n",
       "    <tr>\n",
       "      <th>3</th>\n",
       "      <td>1</td>\n",
       "      <td>14683</td>\n",
       "      <td>shawflying</td>\n",
       "      <td>chaoslawful</td>\n",
       "    </tr>\n",
       "    <tr>\n",
       "      <th>4</th>\n",
       "      <td>1</td>\n",
       "      <td>29982</td>\n",
       "      <td>shawflying</td>\n",
       "      <td>dead-horse</td>\n",
       "    </tr>\n",
       "    <tr>\n",
       "      <th>...</th>\n",
       "      <td>...</td>\n",
       "      <td>...</td>\n",
       "      <td>...</td>\n",
       "      <td>...</td>\n",
       "    </tr>\n",
       "    <tr>\n",
       "      <th>288998</th>\n",
       "      <td>37527</td>\n",
       "      <td>37596</td>\n",
       "      <td>SusmoyBarman1</td>\n",
       "      <td>rusenask</td>\n",
       "    </tr>\n",
       "    <tr>\n",
       "      <th>288999</th>\n",
       "      <td>37529</td>\n",
       "      <td>37601</td>\n",
       "      <td>brannondorsey</td>\n",
       "      <td>khacluan</td>\n",
       "    </tr>\n",
       "    <tr>\n",
       "      <th>289000</th>\n",
       "      <td>37644</td>\n",
       "      <td>2347</td>\n",
       "      <td>shriphani</td>\n",
       "      <td>bamos</td>\n",
       "    </tr>\n",
       "    <tr>\n",
       "      <th>289001</th>\n",
       "      <td>25879</td>\n",
       "      <td>2347</td>\n",
       "      <td>jovanidash21</td>\n",
       "      <td>bamos</td>\n",
       "    </tr>\n",
       "    <tr>\n",
       "      <th>289002</th>\n",
       "      <td>25616</td>\n",
       "      <td>2347</td>\n",
       "      <td>shatu</td>\n",
       "      <td>bamos</td>\n",
       "    </tr>\n",
       "  </tbody>\n",
       "</table>\n",
       "<p>289003 rows × 4 columns</p>\n",
       "</div>"
      ],
      "text/plain": [
       "         id_1   id_2         name_1       name_2\n",
       "0           0  23977         Eiryyy     airtoxin\n",
       "1           1  34526     shawflying      ghosind\n",
       "2           1   2370     shawflying      jasondu\n",
       "3           1  14683     shawflying  chaoslawful\n",
       "4           1  29982     shawflying   dead-horse\n",
       "...       ...    ...            ...          ...\n",
       "288998  37527  37596  SusmoyBarman1     rusenask\n",
       "288999  37529  37601  brannondorsey     khacluan\n",
       "289000  37644   2347      shriphani        bamos\n",
       "289001  25879   2347   jovanidash21        bamos\n",
       "289002  25616   2347          shatu        bamos\n",
       "\n",
       "[289003 rows x 4 columns]"
      ]
     },
     "execution_count": 8,
     "metadata": {},
     "output_type": "execute_result"
    }
   ],
   "source": [
    "# display transformed dataframe\n",
    "connections"
   ]
  },
  {
   "cell_type": "markdown",
   "id": "15ce9abe-bd34-4695-8433-b5b0c8e6c166",
   "metadata": {},
   "source": [
    "# Graph Building and Export"
   ]
  },
  {
   "cell_type": "code",
   "execution_count": 9,
   "id": "3ef19170-dffe-4924-8706-d135275088dc",
   "metadata": {},
   "outputs": [],
   "source": [
    "# create graph\n",
    "g = nx.Graph()"
   ]
  },
  {
   "cell_type": "code",
   "execution_count": 10,
   "id": "b7aa169b-00ad-4c17-ba91-5d6613b79749",
   "metadata": {},
   "outputs": [],
   "source": [
    "# add nodes\n",
    "for i in account_lookup.index:\n",
    "    g.add_node(account_lookup[\"id\"][i], name=account_lookup[\"name\"][i])"
   ]
  },
  {
   "cell_type": "code",
   "execution_count": 11,
   "id": "f3236985-0f11-419a-8413-c9cd1486c024",
   "metadata": {},
   "outputs": [],
   "source": [
    "# add edges\n",
    "for i in connections.index:\n",
    "    left_user = connections[\"id_1\"][i]\n",
    "    right_user = connections[\"id_2\"][i]\n",
    "    \n",
    "    # check for current weight\n",
    "    current_weight = g.get_edge_data(left_user, right_user, default={\"weight\":0})[\"weight\"]\n",
    "\n",
    "    # add edge\n",
    "    g.add_edge(left_user, right_user, weight=current_weight+1)"
   ]
  },
  {
   "cell_type": "code",
   "execution_count": 12,
   "id": "df64ad84-e283-4c7f-90fd-6cf2ee6e0593",
   "metadata": {},
   "outputs": [
    {
     "name": "stdout",
     "output_type": "stream",
     "text": [
      "Expected Nodes: 37700 \t Total Nodes: 37700\n",
      "Expected Edges: 289003 \t Total Edges: 289003\n"
     ]
    }
   ],
   "source": [
    "# check that all connections were added to the graph\n",
    "print(\"Expected Nodes:\", account_lookup.shape[0], \"\\t Total Nodes:\", len(g.nodes))\n",
    "print(\"Expected Edges:\", connections.shape[0], \"\\t Total Edges:\", len(g.edges))"
   ]
  },
  {
   "cell_type": "code",
   "execution_count": 13,
   "id": "153e953b-a25a-4e8a-bff5-076febb5f446",
   "metadata": {},
   "outputs": [
    {
     "name": "stdout",
     "output_type": "stream",
     "text": [
      "TOP 20 NODES BY DEGREE CENTRALITY\n",
      "-------------------------\n",
      "ID: 31890    NAME: dalinhuang99 - 0.25088198625958247\n",
      "ID: 27803    NAME: nfultz - 0.18793601952306427\n",
      "ID: 35773    NAME: addyosmani - 0.08817210005570439\n",
      "ID: 19222    NAME: Bunlong - 0.07846361972466113\n",
      "ID: 13638    NAME: gabrielpconceicao - 0.06546592747818245\n",
      "ID: 36652    NAME: rfthusn - 0.062150189660203185\n",
      "ID: 18163    NAME: nelsonic - 0.05103583649433672\n",
      "ID: 9051    NAME: getify - 0.04766704687126979\n",
      "ID: 35008    NAME: mdo - 0.0416721928963633\n",
      "ID: 10001    NAME: ronenhamias - 0.041592615188731794\n",
      "ID: 36628    NAME: SuriyaaKudoIsc - 0.03997453513355792\n",
      "ID: 7027    NAME: jeresig - 0.039390965277593566\n",
      "ID: 19253    NAME: JonnyBanana - 0.03724236717154301\n",
      "ID: 2078    NAME: mbostock - 0.03628743467996499\n",
      "ID: 33671    NAME: shayan-taheri - 0.03573039072654447\n",
      "ID: 5629    NAME: pengliheng - 0.03490808774768561\n",
      "ID: 73    NAME: kentcdodds - 0.03360831852303774\n",
      "ID: 3712    NAME: isaacs - 0.033528740815406244\n",
      "ID: 11051    NAME: sdras - 0.03289211915435423\n",
      "ID: 30002    NAME: kauegimenes - 0.027984827183744926\n"
     ]
    }
   ],
   "source": [
    "# calculate degree centrality for all nodes\n",
    "degree_centrality = nx.degree_centrality(g)\n",
    "n = 20\n",
    "\n",
    "print(\"TOP\", n, \"NODES BY DEGREE CENTRALITY\\n-------------------------\")\n",
    "# display top n nodes by degree centrality - how many connections they have\n",
    "for u in sorted(degree_centrality, key=degree_centrality.get, reverse=True)[:n]:\n",
    "    print(\"ID:\", u, \"   NAME:\", g.nodes[u][\"name\"], \"-\", degree_centrality[u])"
   ]
  },
  {
   "cell_type": "code",
   "execution_count": 14,
   "id": "2d18812e-a79b-4870-9a8e-111d22d20e21",
   "metadata": {},
   "outputs": [
    {
     "name": "stdout",
     "output_type": "stream",
     "text": [
      "TOP 20 NODES BY BETWEENNESS CENTRALITY\n",
      "-------------------------\n",
      "ID: 31890    NAME: dalinhuang99 - 0.2883355436610856\n",
      "ID: 27803    NAME: nfultz - 0.21716297509061358\n",
      "ID: 19222    NAME: Bunlong - 0.056237828802086\n",
      "ID: 35773    NAME: addyosmani - 0.04138721736391726\n",
      "ID: 13638    NAME: gabrielpconceicao - 0.030142471694000725\n",
      "ID: 10001    NAME: ronenhamias - 0.027264326088247953\n",
      "ID: 36652    NAME: rfthusn - 0.024265066417751283\n",
      "ID: 19253    NAME: JonnyBanana - 0.024052394418631908\n",
      "ID: 18163    NAME: nelsonic - 0.02295150300818241\n",
      "ID: 33671    NAME: shayan-taheri - 0.021909019036689455\n",
      "ID: 35008    NAME: mdo - 0.01888895986935473\n",
      "ID: 73    NAME: kentcdodds - 0.018140055480647246\n",
      "ID: 2078    NAME: mbostock - 0.017215316342604224\n",
      "ID: 36628    NAME: SuriyaaKudoIsc - 0.016305099114292777\n",
      "ID: 25477    NAME: mcanthony - 0.015336358607216145\n",
      "ID: 28957    NAME: ahmetabdi - 0.014732091751420514\n",
      "ID: 7027    NAME: jeresig - 0.014103052738472321\n",
      "ID: 14242    NAME: sibelius - 0.013856185378007644\n",
      "ID: 5629    NAME: pengliheng - 0.013596731843389744\n",
      "ID: 11051    NAME: sdras - 0.013251977202291152\n"
     ]
    }
   ],
   "source": [
    "# calculate betweenness centrality for all nodes\n",
    "between_centrality = nx.betweenness_centrality(g, k=300)\n",
    "n = 20\n",
    "\n",
    "print(\"TOP\", n, \"NODES BY BETWEENNESS CENTRALITY\\n-------------------------\")\n",
    "# display top n nodes by betweenness centrality - how well-connected they are\n",
    "for u in sorted(between_centrality, key=between_centrality.get, reverse=True)[:n]:\n",
    "    print(\"ID:\", u, \"   NAME:\", g.nodes[u][\"name\"], \"-\", between_centrality[u])"
   ]
  },
  {
   "cell_type": "code",
   "execution_count": 18,
   "id": "5e641477-7a64-44df-8679-ebc4ab04e582",
   "metadata": {},
   "outputs": [
    {
     "name": "stdout",
     "output_type": "stream",
     "text": [
      "dalinhuang99's direct connections:  9459\n",
      "nfultz's direct connections:  7086\n",
      "Bunlong's direct connections:  2959\n",
      "addyosmani's direct connections:  3325\n"
     ]
    }
   ],
   "source": [
    "# create subgraphs centered around top 4 accounts with the highest degree and eigenvector centralities\n",
    "sub_g_dalin = nx.ego_graph(g, 31890, radius=1)\n",
    "sub_g_nfultz = nx.ego_graph(g, 27803, radius=1)\n",
    "sub_g_bunlong = nx.ego_graph(g, 19222, radius=1)\n",
    "sub_g_addyosmani = nx.ego_graph(g, 35773, radius=1)\n",
    "\n",
    "# print each user's number of connections\n",
    "print(\"dalinhuang99's direct connections: \", len(sub_g_dalin.nodes))\n",
    "print(\"nfultz's direct connections: \", len(sub_g_nfultz.nodes))\n",
    "print(\"Bunlong's direct connections: \", len(sub_g_bunlong.nodes))\n",
    "print(\"addyosmani's direct connections: \", len(sub_g_addyosmani.nodes))"
   ]
  },
  {
   "cell_type": "code",
   "execution_count": 19,
   "id": "f4f9bd5d-bc15-4236-b6c3-e41453f3e739",
   "metadata": {},
   "outputs": [],
   "source": [
    "# -- export to graphml files --\n",
    "# nx.write_graphml(g, \"git_network.graphml\")\n",
    "# nx.write_graphml(sub_g_dalin, \"git_dalin.graphml\")\n",
    "# nx.write_graphml(sub_g_nfultz, \"git_nfultz.graphml\")\n",
    "# nx.write_graphml(sub_g_bunlong, \"git_bunlong.graphml\")\n",
    "# nx.write_graphml(sub_g_addyosmani, \"git_addyosmani.graphml\")"
   ]
  }
 ],
 "metadata": {
  "kernelspec": {
   "display_name": "Python 3 (ipykernel)",
   "language": "python",
   "name": "python3"
  },
  "language_info": {
   "codemirror_mode": {
    "name": "ipython",
    "version": 3
   },
   "file_extension": ".py",
   "mimetype": "text/x-python",
   "name": "python",
   "nbconvert_exporter": "python",
   "pygments_lexer": "ipython3",
   "version": "3.11.7"
  }
 },
 "nbformat": 4,
 "nbformat_minor": 5
}
