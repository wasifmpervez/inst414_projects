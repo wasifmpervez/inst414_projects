{
 "cells": [
  {
   "cell_type": "markdown",
   "id": "86318809-ef30-4dd7-a531-7e62ad5660a7",
   "metadata": {},
   "source": [
    "# __Setup__"
   ]
  },
  {
   "cell_type": "markdown",
   "id": "ec5d8bae-3db7-4551-8d3c-d50cf37b1e6d",
   "metadata": {},
   "source": [
    "### _Imports and Reading in Data_"
   ]
  },
  {
   "cell_type": "code",
   "execution_count": 96,
   "id": "76de8cf3-6998-49a2-9ea5-02286faf8ff3",
   "metadata": {},
   "outputs": [],
   "source": [
    "# imports\n",
    "import pandas as pd\n",
    "import numpy as np\n",
    "import matplotlib.pyplot as plt\n",
    "import seaborn as sns\n",
    "import networkx as nx"
   ]
  },
  {
   "cell_type": "code",
   "execution_count": 97,
   "id": "a782a7cd-7136-4d2a-a5df-dbc2f12ab4d6",
   "metadata": {},
   "outputs": [],
   "source": [
    "# read in data\n",
    "airports_df = pd.read_csv(\"data/airports.csv\")  # information about each airport\n",
    "routes_df = pd.read_csv(\"data/routes.csv\")  # information about all routes between airports"
   ]
  },
  {
   "cell_type": "markdown",
   "id": "8bf512cd-f443-4b82-b4e9-7cbf81f9ce36",
   "metadata": {},
   "source": [
    "### _Transforming Airports Data_"
   ]
  },
  {
   "cell_type": "code",
   "execution_count": 98,
   "id": "48b56265-c023-4aad-8817-dbd99cf2fa8e",
   "metadata": {},
   "outputs": [
    {
     "data": {
      "text/html": [
       "<div>\n",
       "<style scoped>\n",
       "    .dataframe tbody tr th:only-of-type {\n",
       "        vertical-align: middle;\n",
       "    }\n",
       "\n",
       "    .dataframe tbody tr th {\n",
       "        vertical-align: top;\n",
       "    }\n",
       "\n",
       "    .dataframe thead th {\n",
       "        text-align: right;\n",
       "    }\n",
       "</style>\n",
       "<table border=\"1\" class=\"dataframe\">\n",
       "  <thead>\n",
       "    <tr style=\"text-align: right;\">\n",
       "      <th></th>\n",
       "      <th>index</th>\n",
       "      <th>Airport ID</th>\n",
       "      <th>Name</th>\n",
       "      <th>City</th>\n",
       "      <th>Country</th>\n",
       "      <th>IATA</th>\n",
       "      <th>ICAO</th>\n",
       "      <th>Latitude</th>\n",
       "      <th>Longitude</th>\n",
       "      <th>Altitude</th>\n",
       "      <th>Timezone</th>\n",
       "      <th>DST</th>\n",
       "      <th>Tz database time zone</th>\n",
       "      <th>Type</th>\n",
       "      <th>Source</th>\n",
       "    </tr>\n",
       "  </thead>\n",
       "  <tbody>\n",
       "    <tr>\n",
       "      <th>0</th>\n",
       "      <td>0</td>\n",
       "      <td>1</td>\n",
       "      <td>Goroka Airport</td>\n",
       "      <td>Goroka</td>\n",
       "      <td>Papua New Guinea</td>\n",
       "      <td>GKA</td>\n",
       "      <td>AYGA</td>\n",
       "      <td>-6.081690</td>\n",
       "      <td>145.391998</td>\n",
       "      <td>5282</td>\n",
       "      <td>10</td>\n",
       "      <td>U</td>\n",
       "      <td>Pacific/Port_Moresby</td>\n",
       "      <td>airport</td>\n",
       "      <td>OurAirports</td>\n",
       "    </tr>\n",
       "    <tr>\n",
       "      <th>1</th>\n",
       "      <td>1</td>\n",
       "      <td>2</td>\n",
       "      <td>Madang Airport</td>\n",
       "      <td>Madang</td>\n",
       "      <td>Papua New Guinea</td>\n",
       "      <td>MAG</td>\n",
       "      <td>AYMD</td>\n",
       "      <td>-5.207080</td>\n",
       "      <td>145.789001</td>\n",
       "      <td>20</td>\n",
       "      <td>10</td>\n",
       "      <td>U</td>\n",
       "      <td>Pacific/Port_Moresby</td>\n",
       "      <td>airport</td>\n",
       "      <td>OurAirports</td>\n",
       "    </tr>\n",
       "    <tr>\n",
       "      <th>2</th>\n",
       "      <td>2</td>\n",
       "      <td>3</td>\n",
       "      <td>Mount Hagen Kagamuga Airport</td>\n",
       "      <td>Mount Hagen</td>\n",
       "      <td>Papua New Guinea</td>\n",
       "      <td>HGU</td>\n",
       "      <td>AYMH</td>\n",
       "      <td>-5.826790</td>\n",
       "      <td>144.296005</td>\n",
       "      <td>5388</td>\n",
       "      <td>10</td>\n",
       "      <td>U</td>\n",
       "      <td>Pacific/Port_Moresby</td>\n",
       "      <td>airport</td>\n",
       "      <td>OurAirports</td>\n",
       "    </tr>\n",
       "    <tr>\n",
       "      <th>3</th>\n",
       "      <td>3</td>\n",
       "      <td>4</td>\n",
       "      <td>Nadzab Airport</td>\n",
       "      <td>Nadzab</td>\n",
       "      <td>Papua New Guinea</td>\n",
       "      <td>LAE</td>\n",
       "      <td>AYNZ</td>\n",
       "      <td>-6.569803</td>\n",
       "      <td>146.725977</td>\n",
       "      <td>239</td>\n",
       "      <td>10</td>\n",
       "      <td>U</td>\n",
       "      <td>Pacific/Port_Moresby</td>\n",
       "      <td>airport</td>\n",
       "      <td>OurAirports</td>\n",
       "    </tr>\n",
       "    <tr>\n",
       "      <th>4</th>\n",
       "      <td>4</td>\n",
       "      <td>5</td>\n",
       "      <td>Port Moresby Jacksons International Airport</td>\n",
       "      <td>Port Moresby</td>\n",
       "      <td>Papua New Guinea</td>\n",
       "      <td>POM</td>\n",
       "      <td>AYPY</td>\n",
       "      <td>-9.443380</td>\n",
       "      <td>147.220001</td>\n",
       "      <td>146</td>\n",
       "      <td>10</td>\n",
       "      <td>U</td>\n",
       "      <td>Pacific/Port_Moresby</td>\n",
       "      <td>airport</td>\n",
       "      <td>OurAirports</td>\n",
       "    </tr>\n",
       "  </tbody>\n",
       "</table>\n",
       "</div>"
      ],
      "text/plain": [
       "   index  Airport ID                                         Name  \\\n",
       "0      0           1                               Goroka Airport   \n",
       "1      1           2                               Madang Airport   \n",
       "2      2           3                 Mount Hagen Kagamuga Airport   \n",
       "3      3           4                               Nadzab Airport   \n",
       "4      4           5  Port Moresby Jacksons International Airport   \n",
       "\n",
       "           City           Country IATA  ICAO  Latitude   Longitude  Altitude  \\\n",
       "0        Goroka  Papua New Guinea  GKA  AYGA -6.081690  145.391998      5282   \n",
       "1        Madang  Papua New Guinea  MAG  AYMD -5.207080  145.789001        20   \n",
       "2   Mount Hagen  Papua New Guinea  HGU  AYMH -5.826790  144.296005      5388   \n",
       "3        Nadzab  Papua New Guinea  LAE  AYNZ -6.569803  146.725977       239   \n",
       "4  Port Moresby  Papua New Guinea  POM  AYPY -9.443380  147.220001       146   \n",
       "\n",
       "  Timezone DST Tz database time zone     Type       Source  \n",
       "0       10   U  Pacific/Port_Moresby  airport  OurAirports  \n",
       "1       10   U  Pacific/Port_Moresby  airport  OurAirports  \n",
       "2       10   U  Pacific/Port_Moresby  airport  OurAirports  \n",
       "3       10   U  Pacific/Port_Moresby  airport  OurAirports  \n",
       "4       10   U  Pacific/Port_Moresby  airport  OurAirports  "
      ]
     },
     "execution_count": 98,
     "metadata": {},
     "output_type": "execute_result"
    }
   ],
   "source": [
    "airports_df.head()"
   ]
  },
  {
   "cell_type": "code",
   "execution_count": 99,
   "id": "b50b559e-cdf7-4bc9-9f2f-ce7c253f4558",
   "metadata": {},
   "outputs": [],
   "source": [
    "# removing spaces in column names\n",
    "airports_df.columns = [\"_\".join(c.lower().split()) for c in airports_df.columns]"
   ]
  },
  {
   "cell_type": "code",
   "execution_count": 100,
   "id": "85b44c51-285e-42d6-8609-2aa842102a3b",
   "metadata": {},
   "outputs": [],
   "source": [
    "# setting index to airport_id column and dropping index to avoid redundant data\n",
    "airports_df = airports_df.set_index(\"airport_id\")\n",
    "airports_df = airports_df.drop(columns=[\"index\"])"
   ]
  },
  {
   "cell_type": "code",
   "execution_count": 101,
   "id": "4a83049c-6549-417a-938f-926ca5a1ec6d",
   "metadata": {},
   "outputs": [
    {
     "name": "stdout",
     "output_type": "stream",
     "text": [
      "<class 'pandas.core.frame.DataFrame'>\n",
      "Index: 7698 entries, 1 to 14110\n",
      "Data columns (total 13 columns):\n",
      " #   Column                 Non-Null Count  Dtype  \n",
      "---  ------                 --------------  -----  \n",
      " 0   name                   7698 non-null   object \n",
      " 1   city                   7649 non-null   object \n",
      " 2   country                7698 non-null   object \n",
      " 3   iata                   7698 non-null   object \n",
      " 4   icao                   7698 non-null   object \n",
      " 5   latitude               7698 non-null   float64\n",
      " 6   longitude              7698 non-null   float64\n",
      " 7   altitude               7698 non-null   int64  \n",
      " 8   timezone               7698 non-null   object \n",
      " 9   dst                    7698 non-null   object \n",
      " 10  tz_database_time_zone  7698 non-null   object \n",
      " 11  type                   7698 non-null   object \n",
      " 12  source                 7698 non-null   object \n",
      "dtypes: float64(2), int64(1), object(10)\n",
      "memory usage: 842.0+ KB\n"
     ]
    }
   ],
   "source": [
    "airports_df.info()"
   ]
  },
  {
   "cell_type": "code",
   "execution_count": 102,
   "id": "efa84cf7-776f-4333-b112-5e3f97fac7b6",
   "metadata": {},
   "outputs": [],
   "source": [
    "# removing any airports where the City value is null\n",
    "BM = airports_df[\"city\"].notnull()\n",
    "airports_df = airports_df[BM]"
   ]
  },
  {
   "cell_type": "code",
   "execution_count": 103,
   "id": "c017ca3e-dd55-4fd2-adcb-9803b494f90f",
   "metadata": {},
   "outputs": [],
   "source": [
    "# removing any airports with value \\N for main columns (basically null)\n",
    "for col in airports_df.columns:\n",
    "    BM = airports_df[col] != \"\\\\N\"\n",
    "    airports_df = airports_df[BM]"
   ]
  },
  {
   "cell_type": "code",
   "execution_count": 104,
   "id": "14314bfb-d884-4b52-8a09-71bfc978361e",
   "metadata": {},
   "outputs": [],
   "source": [
    "# changing timezone datatype to int\n",
    "airports_df.timezone = airports_df.timezone.apply(float)"
   ]
  },
  {
   "cell_type": "code",
   "execution_count": 105,
   "id": "f5abeb86-0356-4eb1-b69e-9c8a634bf332",
   "metadata": {},
   "outputs": [
    {
     "name": "stdout",
     "output_type": "stream",
     "text": [
      "<class 'pandas.core.frame.DataFrame'>\n",
      "Index: 5515 entries, 1 to 10952\n",
      "Data columns (total 13 columns):\n",
      " #   Column                 Non-Null Count  Dtype  \n",
      "---  ------                 --------------  -----  \n",
      " 0   name                   5515 non-null   object \n",
      " 1   city                   5515 non-null   object \n",
      " 2   country                5515 non-null   object \n",
      " 3   iata                   5515 non-null   object \n",
      " 4   icao                   5515 non-null   object \n",
      " 5   latitude               5515 non-null   float64\n",
      " 6   longitude              5515 non-null   float64\n",
      " 7   altitude               5515 non-null   int64  \n",
      " 8   timezone               5515 non-null   float64\n",
      " 9   dst                    5515 non-null   object \n",
      " 10  tz_database_time_zone  5515 non-null   object \n",
      " 11  type                   5515 non-null   object \n",
      " 12  source                 5515 non-null   object \n",
      "dtypes: float64(3), int64(1), object(9)\n",
      "memory usage: 603.2+ KB\n"
     ]
    }
   ],
   "source": [
    "airports_df.info()"
   ]
  },
  {
   "cell_type": "code",
   "execution_count": 112,
   "id": "803aa099-22d9-4aa6-9b69-cff17dd08b0d",
   "metadata": {},
   "outputs": [
    {
     "data": {
      "text/html": [
       "<div>\n",
       "<style scoped>\n",
       "    .dataframe tbody tr th:only-of-type {\n",
       "        vertical-align: middle;\n",
       "    }\n",
       "\n",
       "    .dataframe tbody tr th {\n",
       "        vertical-align: top;\n",
       "    }\n",
       "\n",
       "    .dataframe thead th {\n",
       "        text-align: right;\n",
       "    }\n",
       "</style>\n",
       "<table border=\"1\" class=\"dataframe\">\n",
       "  <thead>\n",
       "    <tr style=\"text-align: right;\">\n",
       "      <th></th>\n",
       "      <th>latitude</th>\n",
       "      <th>longitude</th>\n",
       "    </tr>\n",
       "    <tr>\n",
       "      <th>airport_id</th>\n",
       "      <th></th>\n",
       "      <th></th>\n",
       "    </tr>\n",
       "  </thead>\n",
       "  <tbody>\n",
       "    <tr>\n",
       "      <th>1</th>\n",
       "      <td>-6.081690</td>\n",
       "      <td>145.391998</td>\n",
       "    </tr>\n",
       "    <tr>\n",
       "      <th>2</th>\n",
       "      <td>-5.207080</td>\n",
       "      <td>145.789001</td>\n",
       "    </tr>\n",
       "    <tr>\n",
       "      <th>3</th>\n",
       "      <td>-5.826790</td>\n",
       "      <td>144.296005</td>\n",
       "    </tr>\n",
       "    <tr>\n",
       "      <th>4</th>\n",
       "      <td>-6.569803</td>\n",
       "      <td>146.725977</td>\n",
       "    </tr>\n",
       "    <tr>\n",
       "      <th>5</th>\n",
       "      <td>-9.443380</td>\n",
       "      <td>147.220001</td>\n",
       "    </tr>\n",
       "  </tbody>\n",
       "</table>\n",
       "</div>"
      ],
      "text/plain": [
       "            latitude   longitude\n",
       "airport_id                      \n",
       "1          -6.081690  145.391998\n",
       "2          -5.207080  145.789001\n",
       "3          -5.826790  144.296005\n",
       "4          -6.569803  146.725977\n",
       "5          -9.443380  147.220001"
      ]
     },
     "execution_count": 112,
     "metadata": {},
     "output_type": "execute_result"
    }
   ],
   "source": [
    "# create new df with columns for location only\n",
    "airports_loc_df = airports_df[[\"latitude\", \"longitude\"]]#, \"timezone\", \"dst\"]]\n",
    "airports_loc_df.head()"
   ]
  },
  {
   "cell_type": "code",
   "execution_count": 109,
   "id": "4bb9a985-03d6-43b4-8167-9240264d15be",
   "metadata": {},
   "outputs": [],
   "source": [
    "# # one hot encoding categorical dst feature\n",
    "# dst_df = pd.get_dummies(airports_loc_df.dst)\n",
    "\n",
    "# # remove spaces in column names and indicate category\n",
    "# dst_df.columns = [\"dst_\"+x for x in dst_df.columns]\n",
    "\n",
    "# # add boolean category variables to airports_loc_df\n",
    "# airports_loc_df = airports_loc_df.merge(dst_df, left_index=True, right_index=True)\n",
    "# airports_loc_df = airports_loc_df.drop(columns=[\"dst\"])"
   ]
  },
  {
   "cell_type": "code",
   "execution_count": 113,
   "id": "113a0bbc-a982-4347-bd4b-29b8ca323da7",
   "metadata": {},
   "outputs": [],
   "source": [
    "# # normalize high-magnitude columns\n",
    "# norm_cols = [\"latitude\", \"longitude\"]#, \"timezone\"]\n",
    "\n",
    "# for col in norm_cols:\n",
    "#     airports_loc_df[col] = (\n",
    "#         (airports_loc_df[col] - airports_loc_df[col].min()) / (airports_loc_df[col].max() - airports_loc_df[col].min())\n",
    "#     )"
   ]
  },
  {
   "cell_type": "markdown",
   "id": "f115241d-be47-43d3-abb3-9f17ee82c32c",
   "metadata": {},
   "source": [
    "### _Transforming Routes Data_"
   ]
  },
  {
   "cell_type": "code",
   "execution_count": null,
   "id": "8b6a3406-97f0-428a-8703-a4f1db563a08",
   "metadata": {},
   "outputs": [],
   "source": []
  },
  {
   "cell_type": "markdown",
   "id": "ca14221c-6625-46b3-b35f-14214970063e",
   "metadata": {},
   "source": [
    "### _Graph Building and Export_"
   ]
  },
  {
   "cell_type": "code",
   "execution_count": 13,
   "id": "62ba73cf-6d51-4d08-8e34-9452ac1128f8",
   "metadata": {},
   "outputs": [],
   "source": [
    "# create graph\n",
    "g = nx.Graph()"
   ]
  },
  {
   "cell_type": "code",
   "execution_count": 14,
   "id": "a0ec105a-a240-4af2-becc-11cfa8adefaa",
   "metadata": {},
   "outputs": [],
   "source": [
    "# add nodes\n",
    "for index, row in airports_df.iterrows():\n",
    "    airport_desc = row[\"Name\"] + \" - \" + row[\"City\"] + \", \" + row[\"Country\"]\n",
    "    g.add_node(row[\"Airport_ID\"], name=airport_desc)"
   ]
  },
  {
   "cell_type": "code",
   "execution_count": 15,
   "id": "e941c75b-c6df-4bc1-93fd-b3a179066702",
   "metadata": {},
   "outputs": [
    {
     "name": "stdout",
     "output_type": "stream",
     "text": [
      "Expected Nodes: 7649 \t Total Nodes: 7649\n"
     ]
    }
   ],
   "source": [
    "# check that all airports were added to the graph\n",
    "print(\"Expected Nodes:\", airports_df.shape[0], \"\\t Total Nodes:\", len(g.nodes))"
   ]
  },
  {
   "cell_type": "code",
   "execution_count": 16,
   "id": "21ad8afe-1ac9-49ce-8799-cb154a11e5eb",
   "metadata": {},
   "outputs": [],
   "source": [
    "# add edges\n",
    "for i in routes_df.index:\n",
    "    left_airport = routes_df[\"Source_airport_ID\"][i]\n",
    "    right_airport = routes_df[\"Destination_airport_ID\"][i]\n",
    "    \n",
    "    # check for current weight\n",
    "    current_weight = g.get_edge_data(left_airport, right_airport, default={\"weight\":0})[\"weight\"]\n",
    "\n",
    "    # add edge\n",
    "    g.add_edge(left_airport, right_airport, weight=current_weight+1)"
   ]
  },
  {
   "cell_type": "code",
   "execution_count": 17,
   "id": "723b2be0-45d3-4622-be7b-09db9e412c9e",
   "metadata": {},
   "outputs": [
    {
     "name": "stdout",
     "output_type": "stream",
     "text": [
      "Goroka Airport - Goroka, Papua New Guinea\n"
     ]
    }
   ],
   "source": [
    "print(g.nodes[\"1\"][\"name\"])"
   ]
  },
  {
   "cell_type": "code",
   "execution_count": 21,
   "id": "46a68179-528b-4f5a-81aa-8b098649a37f",
   "metadata": {},
   "outputs": [
    {
     "name": "stdout",
     "output_type": "stream",
     "text": [
      "TOP 20 NODES BY DEGREE CENTRALITY\n",
      "-------------------------\n",
      "ID: 580    NAME: Amsterdam Airport Schiphol - Amsterdam, Netherlands - 0.031958762886597936\n",
      "ID: 340    NAME: Frankfurt am Main Airport - Frankfurt, Germany - 0.031443298969072164\n",
      "ID: 1382    NAME: Charles de Gaulle International Airport - Paris, France - 0.030927835051546393\n",
      "ID: 1701    NAME: Atatürk International Airport - Istanbul, Turkey - 0.030154639175257732\n",
      "ID: 3682    NAME: Hartsfield Jackson Atlanta International Airport - Atlanta, United States - 0.027963917525773197\n",
      "ID: 3364    NAME: Beijing Capital International Airport - Beijing, China - 0.026675257731958762\n",
      "ID: 3830    NAME: Chicago O'Hare International Airport - Chicago, United States - 0.02654639175257732\n",
      "ID: 346    NAME: Munich Airport - Munich, Germany - 0.024742268041237116\n",
      "ID: 3670    NAME: Dallas Fort Worth International Airport - Dallas-Fort Worth, United States - 0.02422680412371134\n",
      "ID: 4029    NAME: Domodedovo International Airport - Moscow, Russia - 0.02422680412371134\n",
      "ID: 2188    NAME: Dubai International Airport - Dubai, United Arab Emirates - 0.023969072164948455\n",
      "ID: 507    NAME: London Heathrow Airport - London, United Kingdom - 0.022036082474226806\n",
      "ID: 3751    NAME: Denver International Airport - Denver, United States - 0.021907216494845363\n",
      "ID: 3550    NAME: George Bush Intercontinental Houston Airport - Houston, United States - 0.021778350515463916\n",
      "ID: 502    NAME: London Gatwick Airport - London, United Kingdom - 0.021262886597938145\n",
      "ID: 1218    NAME: Barcelona International Airport - Barcelona, Spain - 0.02100515463917526\n",
      "ID: 1555    NAME: Leonardo da Vinci–Fiumicino Airport - Rome, Italy - 0.020876288659793817\n",
      "ID: 3797    NAME: John F Kennedy International Airport - New York, United States - 0.020876288659793817\n",
      "ID: 1229    NAME: Adolfo Suárez Madrid–Barajas Airport - Madrid, Spain - 0.020489690721649485\n",
      "ID: 3406    NAME: Shanghai Pudong International Airport - Shanghai, China - 0.019845360824742267\n"
     ]
    }
   ],
   "source": [
    "# calculate degree centrality for all nodes\n",
    "degree_centrality = nx.degree_centrality(g)\n",
    "n = 20\n",
    "\n",
    "print(\"TOP\", n, \"NODES BY DEGREE CENTRALITY\\n-------------------------\")\n",
    "# display top n nodes by degree centrality - how many connections they have\n",
    "for u in sorted(degree_centrality, key=degree_centrality.get, reverse=True)[:n]:\n",
    "    print(\"ID:\", u, \"   NAME:\", g.nodes[u][\"name\"], \"-\", degree_centrality[u])"
   ]
  },
  {
   "cell_type": "code",
   "execution_count": null,
   "id": "aa9c7e7a-a761-4413-a34a-b45b7d9da2ec",
   "metadata": {},
   "outputs": [],
   "source": [
    "# export to GraphML file\n",
    "# sub_g_addyosmani = nx.ego_graph(g, 35773, radius=1)"
   ]
  }
 ],
 "metadata": {
  "kernelspec": {
   "display_name": "Python 3 (ipykernel)",
   "language": "python",
   "name": "python3"
  },
  "language_info": {
   "codemirror_mode": {
    "name": "ipython",
    "version": 3
   },
   "file_extension": ".py",
   "mimetype": "text/x-python",
   "name": "python",
   "nbconvert_exporter": "python",
   "pygments_lexer": "ipython3",
   "version": "3.11.7"
  }
 },
 "nbformat": 4,
 "nbformat_minor": 5
}
